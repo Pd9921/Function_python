{
  "cells": [
    {
      "cell_type": "markdown",
      "source": [
        "FUNCTION ASSIGNMENT THEORY"
      ],
      "metadata": {
        "id": "z4L7LuNFozT1"
      }
    },
    {
      "cell_type": "markdown",
      "source": [
        "1. What is the difference between a function and a method in Python?\n",
        "\n",
        "- In Python, a function is a block of reusable code defined independently, while a method is a function that is associated with an object (called using object.method()) and can access or modify that object’s data."
      ],
      "metadata": {
        "id": "WSZYUziap6Te"
      }
    },
    {
      "cell_type": "markdown",
      "source": [
        "2. Explain the concept of function arguments and parameters in Python.\n",
        "- In Python, parameters are placeholders defined in a function, while arguments are the actual values passed to those parameters when the function is called."
      ],
      "metadata": {
        "id": "7lT0zdh-paWb"
      }
    },
    {
      "cell_type": "markdown",
      "source": [
        "3. What are the different ways to define and call a function in Python?\n",
        "- Function arguments vs parameters → Parameters are placeholders in a function definition, while arguments are actual values passed when calling the function.\n",
        "\n",
        "  Function vs method → A function is defined independently, whereas a method is a function tied to an object and usually called as object.method().\n",
        "\n",
        "  Ways to define and call functions → Functions in Python can be defined using def or lambda, and called with positional, keyword, default, variable-length arguments, or as methods via objects."
      ],
      "metadata": {
        "id": "9YqFdeQkp1hK"
      }
    },
    {
      "cell_type": "markdown",
      "source": [
        "4. What is the purpose of the `return` statement in a Python function?\n",
        "- The return statement in a Python function is used to send a value (or multiple values) back to the caller and terminate the function’s execution."
      ],
      "metadata": {
        "id": "ctoRAjIXqims"
      }
    },
    {
      "cell_type": "markdown",
      "source": [
        "5.  What are iterators in Python and how do they differ from iterables ?\n",
        "- In Python, an iterable is any object you can loop over (like lists, tuples, strings) that provides an iterator using iter(), while an iterator is the object that actually produces the next item using next() until items are exhausted."
      ],
      "metadata": {
        "id": "jd8uq4oGqssu"
      }
    },
    {
      "cell_type": "markdown",
      "source": [
        "6.  Explain the concept of generators in Python and how they are defined.\n",
        "- In Python, a generator is a special kind of iterator that is defined using a function with the yield keyword, which allows it to produce values one at a time as you loop over it, instead of generating all values at once in memory."
      ],
      "metadata": {
        "id": "oTwjojiaq9-h"
      }
    },
    {
      "cell_type": "markdown",
      "source": [
        "7. What are the advantages of using generators over regular functions?\n",
        "- Generators are better than regular functions when working with large or infinite data because they save memory, compute values lazily (on demand), and allow efficient iteration without storing the entire sequence in memory."
      ],
      "metadata": {
        "id": "CmwSsD8trUKr"
      }
    },
    {
      "cell_type": "markdown",
      "source": [
        "8.What is a lambda function in Python and when is it typically used?\n",
        "\n",
        "-  A lambda function in Python is a small anonymous function defined with the lambda keyword, typically used for short, simple operations like in sorting, filtering, or as quick one-line functions without needing a formal def."
      ],
      "metadata": {
        "id": "0QGVPKNArclK"
      }
    },
    {
      "cell_type": "markdown",
      "source": [
        " 9. Explain the purpose and usage of the `map()` function in Python\n",
        " - The map() function in Python applies a given function to each item of an iterable (like a list or tuple) and returns an iterator of the results, allowing you to transform data efficiently in a single line."
      ],
      "metadata": {
        "id": "G-yjQCAlrtLe"
      }
    },
    {
      "cell_type": "markdown",
      "source": [
        "10.  What is the difference between `map()`, `reduce()`, and `filter()` functions in Python?\n",
        "- In Python, map() applies a function to all items of an iterable and returns all results, filter() returns only the items that satisfy a condition, and reduce() (from functools) cumulatively applies a function to reduce the iterable to a single value."
      ],
      "metadata": {
        "id": "-NR1x0hMr40j"
      }
    },
    {
      "cell_type": "markdown",
      "source": [
        "PYTHON CODES"
      ],
      "metadata": {
        "id": "v1dA_irUtRft"
      }
    },
    {
      "cell_type": "markdown",
      "source": [
        "1. Write a Python function that takes a list of numbers as input and returns the sum of all even numbers in the list."
      ],
      "metadata": {
        "id": "_AmenwmltePy"
      }
    },
    {
      "cell_type": "code",
      "source": [
        "def sum_even_numbers(numbers):\n",
        "    total = 0\n",
        "    for num in numbers:\n",
        "        if num % 2 == 0:\n",
        "            total += num\n",
        "    return total\n",
        "nums = [47, 11, 42, 13, 28]\n",
        "print(\"Sum of even numbers:\", sum_even_numbers(nums))"
      ],
      "metadata": {
        "id": "V1PjgeO2tX1l",
        "outputId": "e4e53f0b-b6cd-4d9d-fc82-25b629403e94",
        "colab": {
          "base_uri": "https://localhost:8080/"
        }
      },
      "execution_count": 2,
      "outputs": [
        {
          "output_type": "stream",
          "name": "stdout",
          "text": [
            "Sum of even numbers: 70\n"
          ]
        }
      ]
    },
    {
      "cell_type": "markdown",
      "source": [
        "2. Create a Python function that accepts a string and returns the reverse of that string."
      ],
      "metadata": {
        "id": "X2jfTZciuM_r"
      }
    },
    {
      "cell_type": "code",
      "source": [
        "def reverse_string(s):\n",
        "    return s[::-1]\n",
        "text = \"Pratik\"\n",
        "print(\"Reversed string:\", reverse_string(text))"
      ],
      "metadata": {
        "id": "n6r3ZsVIuBf9",
        "outputId": "96679110-470f-4ebb-87d6-a5d3332163bd",
        "colab": {
          "base_uri": "https://localhost:8080/"
        }
      },
      "execution_count": 3,
      "outputs": [
        {
          "output_type": "stream",
          "name": "stdout",
          "text": [
            "Reversed string: kitarP\n"
          ]
        }
      ]
    },
    {
      "cell_type": "markdown",
      "source": [
        "3.  Implement a Python function that takes a list of integers and returns a new list containing the squares of\n",
        "each number."
      ],
      "metadata": {
        "id": "hZKMZHyQufqI"
      }
    },
    {
      "cell_type": "code",
      "source": [
        "def square_list(numbers):\n",
        "    return [num**2 for num in numbers]\n",
        "nums = [2, 5, 7, 10]\n",
        "print(\"Squares:\", square_list(nums))"
      ],
      "metadata": {
        "id": "qZL680Y9udGf",
        "outputId": "47367404-2fce-44db-bc95-3e268792b802",
        "colab": {
          "base_uri": "https://localhost:8080/"
        }
      },
      "execution_count": 4,
      "outputs": [
        {
          "output_type": "stream",
          "name": "stdout",
          "text": [
            "Squares: [4, 25, 49, 100]\n"
          ]
        }
      ]
    },
    {
      "cell_type": "markdown",
      "source": [
        "4. Write a Python function that checks if a given number is prime or not from 1 to 200."
      ],
      "metadata": {
        "id": "V_cJC4sWuvrE"
      }
    },
    {
      "cell_type": "code",
      "source": [
        "def is_prime(n):\n",
        "    if n <= 1:\n",
        "        return False\n",
        "    for i in range(2, int(n**0.5) + 1):\n",
        "        if n % i == 0:\n",
        "            return False\n",
        "    return True\n",
        "primes = [num for num in range(1, 201) if is_prime(num)]\n",
        "print(\"Prime numbers from 1 to 200:\", primes)"
      ],
      "metadata": {
        "id": "y0WD5wOAus0s",
        "outputId": "fd3f544a-189d-468d-a893-a185457bcdd8",
        "colab": {
          "base_uri": "https://localhost:8080/"
        }
      },
      "execution_count": 5,
      "outputs": [
        {
          "output_type": "stream",
          "name": "stdout",
          "text": [
            "Prime numbers from 1 to 200: [2, 3, 5, 7, 11, 13, 17, 19, 23, 29, 31, 37, 41, 43, 47, 53, 59, 61, 67, 71, 73, 79, 83, 89, 97, 101, 103, 107, 109, 113, 127, 131, 137, 139, 149, 151, 157, 163, 167, 173, 179, 181, 191, 193, 197, 199]\n"
          ]
        }
      ]
    },
    {
      "cell_type": "markdown",
      "source": [
        "5.  Create an iterator class in Python that generates the Fibonacci sequence up to a specified number of\n",
        "terms."
      ],
      "metadata": {
        "id": "K_469QRhvD6g"
      }
    },
    {
      "cell_type": "code",
      "source": [
        "class Fibonacci:\n",
        "    def __init__(self, n_terms):\n",
        "        self.n_terms = n_terms\n",
        "        self.count = 0\n",
        "        self.a, self.b = 0, 1\n",
        "\n",
        "    def __iter__(self):\n",
        "        return self\n",
        "\n",
        "    def __next__(self):\n",
        "        if self.count >= self.n_terms:\n",
        "            raise StopIteration\n",
        "        if self.count == 0:\n",
        "            self.count += 1\n",
        "            return self.a\n",
        "        elif self.count == 1:\n",
        "            self.count += 1\n",
        "            return self.b\n",
        "        else:\n",
        "            self.a, self.b = self.b, self.a + self.b\n",
        "            self.count += 1\n",
        "            return self.b\n",
        "\n",
        "\n",
        "fib_iter = Fibonacci(10)\n",
        "for num in fib_iter:\n",
        "    print(num, end=\" \")"
      ],
      "metadata": {
        "id": "_2tuFzrtvCKJ",
        "outputId": "cd6375e7-d39a-4564-fdd2-21f917a3fb4f",
        "colab": {
          "base_uri": "https://localhost:8080/"
        }
      },
      "execution_count": 7,
      "outputs": [
        {
          "output_type": "stream",
          "name": "stdout",
          "text": [
            "0 1 1 2 3 5 8 13 21 34 "
          ]
        }
      ]
    },
    {
      "cell_type": "markdown",
      "source": [
        "6. Write a generator function in Python that yields the powers of 2 up to a given exponent."
      ],
      "metadata": {
        "id": "1qAQrRzHvuIv"
      }
    },
    {
      "cell_type": "code",
      "source": [
        "def powers_of_two(max_exp):\n",
        "    for i in range(max_exp + 1):\n",
        "        yield 2 ** i\n",
        "\n",
        "# Example usage\n",
        "for power in powers_of_two(5):  # Powers of 2 from 0 to 5\n",
        "    print(power, end=\" \")"
      ],
      "metadata": {
        "id": "ClnrWgExvxv4",
        "outputId": "a984ff72-fd3c-44b4-a2e3-182c8a44692e",
        "colab": {
          "base_uri": "https://localhost:8080/"
        }
      },
      "execution_count": 6,
      "outputs": [
        {
          "output_type": "stream",
          "name": "stdout",
          "text": [
            "1 2 4 8 16 32 "
          ]
        }
      ]
    },
    {
      "cell_type": "markdown",
      "source": [
        "7. Implement a generator function that reads a file line by line and yields each line as a string."
      ],
      "metadata": {
        "id": "MJgheDG0v5uE"
      }
    },
    {
      "cell_type": "code",
      "source": [
        "def read_file_lines(file_path):\n",
        "  with open(file_path, 'r') as file:\n",
        "        for line in file:\n",
        "            yield line.strip()\n",
        "  for line in read_file_lines('file_path'):\n",
        "    print(line)"
      ],
      "metadata": {
        "id": "roch7fO0wy0r"
      },
      "execution_count": 20,
      "outputs": []
    },
    {
      "cell_type": "markdown",
      "source": [
        "8. Use a lambda function in Python to sort a list of tuples based on the second element of each tuple"
      ],
      "metadata": {
        "id": "82xuE197yQIz"
      }
    },
    {
      "cell_type": "code",
      "source": [
        "lambda list_of_tuples: sorted(list_of_tuples, key=lambda x: x[1])"
      ],
      "metadata": {
        "id": "7Lha6TO3wQND",
        "outputId": "43a87ab8-da33-49dd-972b-95e22e005917",
        "colab": {
          "base_uri": "https://localhost:8080/"
        }
      },
      "execution_count": 21,
      "outputs": [
        {
          "output_type": "execute_result",
          "data": {
            "text/plain": [
              "<function __main__.<lambda>(list_of_tuples)>"
            ]
          },
          "metadata": {},
          "execution_count": 21
        }
      ]
    },
    {
      "cell_type": "markdown",
      "source": [
        "9. Write a Python program that uses `map()` to convert a list of temperatures from Celsius to Fahrenheit."
      ],
      "metadata": {
        "id": "3LE64z6My16d"
      }
    },
    {
      "cell_type": "code",
      "source": [
        "fahrenheit = list(map(lambda c: (c*9/5)+32, [10, 20, 30, 40]))\n",
        "print(fahrenheit)"
      ],
      "metadata": {
        "id": "_VLGMYHLwZZK",
        "outputId": "8e8b89a5-319e-482c-9ec9-0d20c89a9b53",
        "colab": {
          "base_uri": "https://localhost:8080/"
        }
      },
      "execution_count": 24,
      "outputs": [
        {
          "output_type": "stream",
          "name": "stdout",
          "text": [
            "[50.0, 68.0, 86.0, 104.0]\n"
          ]
        }
      ]
    },
    {
      "cell_type": "markdown",
      "source": [
        "10. Create a Python program that uses `filter()` to remove all the vowels from a given string"
      ],
      "metadata": {
        "id": "Ld173FiGzyJ0"
      }
    },
    {
      "cell_type": "code",
      "source": [
        "def remove_vowels(s):\n",
        "    vowels = \"aeiouAEIOU\"\n",
        "    return \"\".join(filter(lambda char: char not in vowels, s))\n",
        "text = \"Hello World\"\n",
        "result = remove_vowels(text)\n",
        "print(result)"
      ],
      "metadata": {
        "id": "UfrSzpnazd12",
        "outputId": "07a1f239-3101-4bf4-f933-68fa5efac151",
        "colab": {
          "base_uri": "https://localhost:8080/"
        }
      },
      "execution_count": 26,
      "outputs": [
        {
          "output_type": "stream",
          "name": "stdout",
          "text": [
            "Hll Wrld\n"
          ]
        }
      ]
    },
    {
      "cell_type": "code",
      "source": [
        "#11\n",
        "orders = [[34587, \"Learning Python, Mark Lutz\", 4, 40.95],[98762, \"Programming Python, Mark Lutz\", 5, 56.80],\n",
        "    [77226, \"Head First Python, Paul Barry\", 3, 32.95],[88112, \"Einführung in Python3, Bernd Klein\", 3, 24.99]]\n",
        "\n",
        "result = list(map(lambda x: (x[0], x[2] * x[3] if x[2] * x[3] >= 100 else x[2] * x[3] + 10), orders))\n",
        "print(result)\n"
      ],
      "metadata": {
        "id": "HKb3f68B1QCq",
        "outputId": "31ff1e9d-05ac-455e-b37e-a602adedb310",
        "colab": {
          "base_uri": "https://localhost:8080/"
        }
      },
      "execution_count": 1,
      "outputs": [
        {
          "output_type": "stream",
          "name": "stdout",
          "text": [
            "[(34587, 163.8), (98762, 284.0), (77226, 108.85000000000001), (88112, 84.97)]\n"
          ]
        }
      ]
    },
    {
      "cell_type": "code",
      "source": [],
      "metadata": {
        "id": "VUMipJM5yNe-"
      },
      "execution_count": null,
      "outputs": []
    }
  ],
  "metadata": {
    "colab": {
      "name": "Welcome to Colab",
      "toc_visible": true,
      "provenance": []
    },
    "kernelspec": {
      "display_name": "Python 3",
      "name": "python3"
    }
  },
  "nbformat": 4,
  "nbformat_minor": 0
}